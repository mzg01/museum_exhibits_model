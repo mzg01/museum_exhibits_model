{
 "cells": [
  {
   "cell_type": "code",
   "execution_count": null,
   "metadata": {
    "colab": {
     "base_uri": "https://localhost:8080/"
    },
    "id": "joevALM1wtF3",
    "outputId": "1313f7c1-218f-47cf-a3f3-370cef482cbf"
   },
   "outputs": [
    {
     "name": "stdout",
     "output_type": "stream",
     "text": [
      "Drive already mounted at /content/drive; to attempt to forcibly remount, call drive.mount(\"/content/drive\", force_remount=True).\n"
     ]
    }
   ],
   "source": [
    "import numpy as np\n",
    "from tensorflow import keras\n",
    "import tensorflow as tf\n",
    "import pandas as pd\n",
    "\n",
    "\n",
    "from google.colab import drive\n",
    "drive.mount('/content/drive')"
   ]
  },
  {
   "cell_type": "code",
   "execution_count": null,
   "metadata": {
    "id": "a39ARZ_m4ycT"
   },
   "outputs": [],
   "source": [
    "#!pip install patool\n",
    "#import patoolib\n",
    "#patoolib.extract_archive(\"/content/drive/MyDrive/meuseum/museum_exhibits_cv_hack.rar\", outdir=\"/content/drive/MyDrive/meuseum/\")"
   ]
  },
  {
   "cell_type": "code",
   "execution_count": null,
   "metadata": {
    "id": "RbaqTb5fK7JQ"
   },
   "outputs": [],
   "source": [
    "df_train = pd.read_csv(\"/content/drive/MyDrive/meuseum/train_dataset_train/train.csv\")"
   ]
  },
  {
   "cell_type": "code",
   "execution_count": null,
   "metadata": {
    "colab": {
     "base_uri": "https://localhost:8080/",
     "height": 206
    },
    "id": "FBdL7hmeLQTh",
    "outputId": "74c0fab9-ead4-4cd9-dc52-5c507222d2b5"
   },
   "outputs": [
    {
     "data": {
      "text/html": [
       "\n",
       "  <div id=\"df-521b1281-0246-4d69-912d-22b133eeabd6\">\n",
       "    <div class=\"colab-df-container\">\n",
       "      <div>\n",
       "<style scoped>\n",
       "    .dataframe tbody tr th:only-of-type {\n",
       "        vertical-align: middle;\n",
       "    }\n",
       "\n",
       "    .dataframe tbody tr th {\n",
       "        vertical-align: top;\n",
       "    }\n",
       "\n",
       "    .dataframe thead th {\n",
       "        text-align: right;\n",
       "    }\n",
       "</style>\n",
       "<table border=\"1\" class=\"dataframe\">\n",
       "  <thead>\n",
       "    <tr style=\"text-align: right;\">\n",
       "      <th></th>\n",
       "      <th>id</th>\n",
       "      <th>description</th>\n",
       "      <th>object_img</th>\n",
       "    </tr>\n",
       "  </thead>\n",
       "  <tbody>\n",
       "    <tr>\n",
       "      <th>0</th>\n",
       "      <td>520</td>\n",
       "      <td>Фотография. Г. Пермь. Здание горисполкома.  ПО...</td>\n",
       "      <td>799</td>\n",
       "    </tr>\n",
       "    <tr>\n",
       "      <th>1</th>\n",
       "      <td>1817</td>\n",
       "      <td>Фотонегатив пленочный. Труппа театра «У моста»...</td>\n",
       "      <td>854</td>\n",
       "    </tr>\n",
       "    <tr>\n",
       "      <th>2</th>\n",
       "      <td>188</td>\n",
       "      <td>Изразец гладкий расписной \"пермский\"- карниз А...</td>\n",
       "      <td>1794</td>\n",
       "    </tr>\n",
       "    <tr>\n",
       "      <th>3</th>\n",
       "      <td>1472</td>\n",
       "      <td>Фотонегатив пленочный. Серебряная чаша из Хоре...</td>\n",
       "      <td>526</td>\n",
       "    </tr>\n",
       "    <tr>\n",
       "      <th>4</th>\n",
       "      <td>1664</td>\n",
       "      <td>Фотонегатив стеклянный. Этнография коми-пермяк...</td>\n",
       "      <td>244</td>\n",
       "    </tr>\n",
       "  </tbody>\n",
       "</table>\n",
       "</div>\n",
       "      <button class=\"colab-df-convert\" onclick=\"convertToInteractive('df-521b1281-0246-4d69-912d-22b133eeabd6')\"\n",
       "              title=\"Convert this dataframe to an interactive table.\"\n",
       "              style=\"display:none;\">\n",
       "        \n",
       "  <svg xmlns=\"http://www.w3.org/2000/svg\" height=\"24px\"viewBox=\"0 0 24 24\"\n",
       "       width=\"24px\">\n",
       "    <path d=\"M0 0h24v24H0V0z\" fill=\"none\"/>\n",
       "    <path d=\"M18.56 5.44l.94 2.06.94-2.06 2.06-.94-2.06-.94-.94-2.06-.94 2.06-2.06.94zm-11 1L8.5 8.5l.94-2.06 2.06-.94-2.06-.94L8.5 2.5l-.94 2.06-2.06.94zm10 10l.94 2.06.94-2.06 2.06-.94-2.06-.94-.94-2.06-.94 2.06-2.06.94z\"/><path d=\"M17.41 7.96l-1.37-1.37c-.4-.4-.92-.59-1.43-.59-.52 0-1.04.2-1.43.59L10.3 9.45l-7.72 7.72c-.78.78-.78 2.05 0 2.83L4 21.41c.39.39.9.59 1.41.59.51 0 1.02-.2 1.41-.59l7.78-7.78 2.81-2.81c.8-.78.8-2.07 0-2.86zM5.41 20L4 18.59l7.72-7.72 1.47 1.35L5.41 20z\"/>\n",
       "  </svg>\n",
       "      </button>\n",
       "      \n",
       "  <style>\n",
       "    .colab-df-container {\n",
       "      display:flex;\n",
       "      flex-wrap:wrap;\n",
       "      gap: 12px;\n",
       "    }\n",
       "\n",
       "    .colab-df-convert {\n",
       "      background-color: #E8F0FE;\n",
       "      border: none;\n",
       "      border-radius: 50%;\n",
       "      cursor: pointer;\n",
       "      display: none;\n",
       "      fill: #1967D2;\n",
       "      height: 32px;\n",
       "      padding: 0 0 0 0;\n",
       "      width: 32px;\n",
       "    }\n",
       "\n",
       "    .colab-df-convert:hover {\n",
       "      background-color: #E2EBFA;\n",
       "      box-shadow: 0px 1px 2px rgba(60, 64, 67, 0.3), 0px 1px 3px 1px rgba(60, 64, 67, 0.15);\n",
       "      fill: #174EA6;\n",
       "    }\n",
       "\n",
       "    [theme=dark] .colab-df-convert {\n",
       "      background-color: #3B4455;\n",
       "      fill: #D2E3FC;\n",
       "    }\n",
       "\n",
       "    [theme=dark] .colab-df-convert:hover {\n",
       "      background-color: #434B5C;\n",
       "      box-shadow: 0px 1px 3px 1px rgba(0, 0, 0, 0.15);\n",
       "      filter: drop-shadow(0px 1px 2px rgba(0, 0, 0, 0.3));\n",
       "      fill: #FFFFFF;\n",
       "    }\n",
       "  </style>\n",
       "\n",
       "      <script>\n",
       "        const buttonEl =\n",
       "          document.querySelector('#df-521b1281-0246-4d69-912d-22b133eeabd6 button.colab-df-convert');\n",
       "        buttonEl.style.display =\n",
       "          google.colab.kernel.accessAllowed ? 'block' : 'none';\n",
       "\n",
       "        async function convertToInteractive(key) {\n",
       "          const element = document.querySelector('#df-521b1281-0246-4d69-912d-22b133eeabd6');\n",
       "          const dataTable =\n",
       "            await google.colab.kernel.invokeFunction('convertToInteractive',\n",
       "                                                     [key], {});\n",
       "          if (!dataTable) return;\n",
       "\n",
       "          const docLinkHtml = 'Like what you see? Visit the ' +\n",
       "            '<a target=\"_blank\" href=https://colab.research.google.com/notebooks/data_table.ipynb>data table notebook</a>'\n",
       "            + ' to learn more about interactive tables.';\n",
       "          element.innerHTML = '';\n",
       "          dataTable['output_type'] = 'display_data';\n",
       "          await google.colab.output.renderOutput(dataTable, element);\n",
       "          const docLink = document.createElement('div');\n",
       "          docLink.innerHTML = docLinkHtml;\n",
       "          element.appendChild(docLink);\n",
       "        }\n",
       "      </script>\n",
       "    </div>\n",
       "  </div>\n",
       "  "
      ],
      "text/plain": [
       "     id                                        description  object_img\n",
       "0   520  Фотография. Г. Пермь. Здание горисполкома.  ПО...         799\n",
       "1  1817  Фотонегатив пленочный. Труппа театра «У моста»...         854\n",
       "2   188  Изразец гладкий расписной \"пермский\"- карниз А...        1794\n",
       "3  1472  Фотонегатив пленочный. Серебряная чаша из Хоре...         526\n",
       "4  1664  Фотонегатив стеклянный. Этнография коми-пермяк...         244"
      ]
     },
     "execution_count": 7,
     "metadata": {},
     "output_type": "execute_result"
    }
   ],
   "source": [
    "df_train.head()"
   ]
  },
  {
   "cell_type": "code",
   "execution_count": null,
   "metadata": {
    "id": "lsukmF_NOPwj"
   },
   "outputs": [],
   "source": [
    "df_train.index = df_train['id']"
   ]
  },
  {
   "cell_type": "code",
   "execution_count": null,
   "metadata": {
    "colab": {
     "base_uri": "https://localhost:8080/",
     "height": 143
    },
    "id": "AfwYZIdzOXOS",
    "outputId": "6149868a-1c40-4694-8808-c478d0924344"
   },
   "outputs": [
    {
     "data": {
      "text/html": [
       "\n",
       "  <div id=\"df-7081fc21-02d8-4654-91a7-f1430c815fd2\">\n",
       "    <div class=\"colab-df-container\">\n",
       "      <div>\n",
       "<style scoped>\n",
       "    .dataframe tbody tr th:only-of-type {\n",
       "        vertical-align: middle;\n",
       "    }\n",
       "\n",
       "    .dataframe tbody tr th {\n",
       "        vertical-align: top;\n",
       "    }\n",
       "\n",
       "    .dataframe thead th {\n",
       "        text-align: right;\n",
       "    }\n",
       "</style>\n",
       "<table border=\"1\" class=\"dataframe\">\n",
       "  <thead>\n",
       "    <tr style=\"text-align: right;\">\n",
       "      <th></th>\n",
       "      <th>id</th>\n",
       "      <th>description</th>\n",
       "      <th>object_img</th>\n",
       "    </tr>\n",
       "    <tr>\n",
       "      <th>id</th>\n",
       "      <th></th>\n",
       "      <th></th>\n",
       "      <th></th>\n",
       "    </tr>\n",
       "  </thead>\n",
       "  <tbody>\n",
       "    <tr>\n",
       "      <th>520</th>\n",
       "      <td>520</td>\n",
       "      <td>Фотография. Г. Пермь. Здание горисполкома.  ПО...</td>\n",
       "      <td>799</td>\n",
       "    </tr>\n",
       "    <tr>\n",
       "      <th>1817</th>\n",
       "      <td>1817</td>\n",
       "      <td>Фотонегатив пленочный. Труппа театра «У моста»...</td>\n",
       "      <td>854</td>\n",
       "    </tr>\n",
       "  </tbody>\n",
       "</table>\n",
       "</div>\n",
       "      <button class=\"colab-df-convert\" onclick=\"convertToInteractive('df-7081fc21-02d8-4654-91a7-f1430c815fd2')\"\n",
       "              title=\"Convert this dataframe to an interactive table.\"\n",
       "              style=\"display:none;\">\n",
       "        \n",
       "  <svg xmlns=\"http://www.w3.org/2000/svg\" height=\"24px\"viewBox=\"0 0 24 24\"\n",
       "       width=\"24px\">\n",
       "    <path d=\"M0 0h24v24H0V0z\" fill=\"none\"/>\n",
       "    <path d=\"M18.56 5.44l.94 2.06.94-2.06 2.06-.94-2.06-.94-.94-2.06-.94 2.06-2.06.94zm-11 1L8.5 8.5l.94-2.06 2.06-.94-2.06-.94L8.5 2.5l-.94 2.06-2.06.94zm10 10l.94 2.06.94-2.06 2.06-.94-2.06-.94-.94-2.06-.94 2.06-2.06.94z\"/><path d=\"M17.41 7.96l-1.37-1.37c-.4-.4-.92-.59-1.43-.59-.52 0-1.04.2-1.43.59L10.3 9.45l-7.72 7.72c-.78.78-.78 2.05 0 2.83L4 21.41c.39.39.9.59 1.41.59.51 0 1.02-.2 1.41-.59l7.78-7.78 2.81-2.81c.8-.78.8-2.07 0-2.86zM5.41 20L4 18.59l7.72-7.72 1.47 1.35L5.41 20z\"/>\n",
       "  </svg>\n",
       "      </button>\n",
       "      \n",
       "  <style>\n",
       "    .colab-df-container {\n",
       "      display:flex;\n",
       "      flex-wrap:wrap;\n",
       "      gap: 12px;\n",
       "    }\n",
       "\n",
       "    .colab-df-convert {\n",
       "      background-color: #E8F0FE;\n",
       "      border: none;\n",
       "      border-radius: 50%;\n",
       "      cursor: pointer;\n",
       "      display: none;\n",
       "      fill: #1967D2;\n",
       "      height: 32px;\n",
       "      padding: 0 0 0 0;\n",
       "      width: 32px;\n",
       "    }\n",
       "\n",
       "    .colab-df-convert:hover {\n",
       "      background-color: #E2EBFA;\n",
       "      box-shadow: 0px 1px 2px rgba(60, 64, 67, 0.3), 0px 1px 3px 1px rgba(60, 64, 67, 0.15);\n",
       "      fill: #174EA6;\n",
       "    }\n",
       "\n",
       "    [theme=dark] .colab-df-convert {\n",
       "      background-color: #3B4455;\n",
       "      fill: #D2E3FC;\n",
       "    }\n",
       "\n",
       "    [theme=dark] .colab-df-convert:hover {\n",
       "      background-color: #434B5C;\n",
       "      box-shadow: 0px 1px 3px 1px rgba(0, 0, 0, 0.15);\n",
       "      filter: drop-shadow(0px 1px 2px rgba(0, 0, 0, 0.3));\n",
       "      fill: #FFFFFF;\n",
       "    }\n",
       "  </style>\n",
       "\n",
       "      <script>\n",
       "        const buttonEl =\n",
       "          document.querySelector('#df-7081fc21-02d8-4654-91a7-f1430c815fd2 button.colab-df-convert');\n",
       "        buttonEl.style.display =\n",
       "          google.colab.kernel.accessAllowed ? 'block' : 'none';\n",
       "\n",
       "        async function convertToInteractive(key) {\n",
       "          const element = document.querySelector('#df-7081fc21-02d8-4654-91a7-f1430c815fd2');\n",
       "          const dataTable =\n",
       "            await google.colab.kernel.invokeFunction('convertToInteractive',\n",
       "                                                     [key], {});\n",
       "          if (!dataTable) return;\n",
       "\n",
       "          const docLinkHtml = 'Like what you see? Visit the ' +\n",
       "            '<a target=\"_blank\" href=https://colab.research.google.com/notebooks/data_table.ipynb>data table notebook</a>'\n",
       "            + ' to learn more about interactive tables.';\n",
       "          element.innerHTML = '';\n",
       "          dataTable['output_type'] = 'display_data';\n",
       "          await google.colab.output.renderOutput(dataTable, element);\n",
       "          const docLink = document.createElement('div');\n",
       "          docLink.innerHTML = docLinkHtml;\n",
       "          element.appendChild(docLink);\n",
       "        }\n",
       "      </script>\n",
       "    </div>\n",
       "  </div>\n",
       "  "
      ],
      "text/plain": [
       "        id                                        description  object_img\n",
       "id                                                                       \n",
       "520    520  Фотография. Г. Пермь. Здание горисполкома.  ПО...         799\n",
       "1817  1817  Фотонегатив пленочный. Труппа театра «У моста»...         854"
      ]
     },
     "execution_count": 5,
     "metadata": {},
     "output_type": "execute_result"
    }
   ],
   "source": [
    "df_train.loc[[520, 1817]]"
   ]
  },
  {
   "cell_type": "code",
   "execution_count": null,
   "metadata": {
    "id": "DMcHaP2eLTSq"
   },
   "outputs": [],
   "source": [
    "df_train['filename'] = df_train['object_img'].apply(lambda x: f\"/content/drive/MyDrive/meuseum/train_dataset_train/train/{x}.png\")"
   ]
  },
  {
   "cell_type": "code",
   "execution_count": null,
   "metadata": {
    "id": "bia45e96yCY8"
   },
   "outputs": [],
   "source": [
    "import tensorflow as tf\n",
    "from tensorflow import keras\n",
    "from tensorflow.keras import layers\n",
    "from tensorflow.keras.layers.experimental.preprocessing import TextVectorization\n",
    "import string\n",
    "import re\n",
    "from tensorflow.keras.preprocessing.image import ImageDataGenerator\n",
    "from tensorflow.keras.utils import Sequence"
   ]
  },
  {
   "cell_type": "code",
   "execution_count": null,
   "metadata": {
    "colab": {
     "base_uri": "https://localhost:8080/"
    },
    "id": "oA-U2nsxKroC",
    "outputId": "ed26c7de-1e9b-48dc-f726-948b5d023a7e"
   },
   "outputs": [
    {
     "name": "stdout",
     "output_type": "stream",
     "text": [
      "Found 2098 validated image filenames.\n"
     ]
    }
   ],
   "source": [
    "train_datagen = ImageDataGenerator(\n",
    "    rescale=1./255,\n",
    "    shear_range=0.2,\n",
    "    zoom_range=0.2,\n",
    "    horizontal_flip=True)\n",
    "\n",
    "\n",
    "train_generator = train_datagen.flow_from_dataframe(\n",
    "    df_train,\n",
    "    y_col='id',\n",
    "    target_size=(32, 32),\n",
    "    batch_size=32,\n",
    "    class_mode='raw')"
   ]
  },
  {
   "cell_type": "code",
   "execution_count": null,
   "metadata": {
    "colab": {
     "base_uri": "https://localhost:8080/"
    },
    "id": "LWzXT63jNhEB",
    "outputId": "aa81e2fc-535d-4ee7-e6b0-97053e78505b"
   },
   "outputs": [
    {
     "data": {
      "text/plain": [
       "<2098x51 sparse matrix of type '<class 'numpy.int64'>'\n",
       "\twith 15813 stored elements in Compressed Sparse Row format>"
      ]
     },
     "execution_count": 14,
     "metadata": {},
     "output_type": "execute_result"
    }
   ],
   "source": [
    "from sklearn.feature_extraction.text import CountVectorizer\n",
    "\n",
    "cnt = CountVectorizer(min_df=0.07)\n",
    "cnt.fit_transform(df_train['description'])"
   ]
  },
  {
   "cell_type": "code",
   "execution_count": null,
   "metadata": {
    "id": "crWoj3neLxnx"
   },
   "outputs": [],
   "source": [
    "class TrainDataGenerator(Sequence):\n",
    "    \"\"\"Generates data for Keras\n",
    "    Sequence based data generator. Suitable for building data generator for training and prediction.\n",
    "    \"\"\"\n",
    "    def __init__(self, df, vectorizer, to_fit=True, batch_size=32, dim=(150, 150),\n",
    "                 n_channels=3, shuffle=True):\n",
    "        self.train_datagen = ImageDataGenerator(\n",
    "                                  rescale=1./255,\n",
    "                                  shear_range=0.2,\n",
    "                                  zoom_range=0.2,\n",
    "                                  horizontal_flip=True)\n",
    "        self.train_generator = train_datagen.flow_from_dataframe(\n",
    "                                  df_train,\n",
    "                                  y_col='id',\n",
    "                                  target_size=(32, 32),\n",
    "                                  batch_size=32,\n",
    "                                  class_mode='raw')\n",
    "        self.vectorizer = vectorizer\n",
    "        self.df = df\n",
    "\n",
    "\n",
    "    def __len__(self):\n",
    "        \"\"\"Denotes the number of batches per epoch\n",
    "        :return: number of batches per epoch\n",
    "        \"\"\"\n",
    "        return len(self.train_generator)\n",
    "\n",
    "    def __getitem__(self, index):\n",
    "        X, y_idx = self.train_generator[index]\n",
    "        rows = self.df.loc[y_idx]\n",
    "        y = self.vectorizer.transform(rows['description']).todense()\n",
    "        return X, y\n",
    "\n",
    "\n",
    "    def on_epoch_end(self):\n",
    "        pass\n"
   ]
  },
  {
   "cell_type": "code",
   "execution_count": null,
   "metadata": {
    "colab": {
     "base_uri": "https://localhost:8080/"
    },
    "id": "KzoGaI0ZO-SE",
    "outputId": "900d6b29-b1de-4396-c6d0-ec4d1a986c64"
   },
   "outputs": [
    {
     "name": "stdout",
     "output_type": "stream",
     "text": [
      "Found 2098 validated image filenames.\n"
     ]
    }
   ],
   "source": [
    "data_generator = TrainDataGenerator(df_train, cnt)"
   ]
  },
  {
   "cell_type": "code",
   "execution_count": null,
   "metadata": {
    "id": "tk6zclAvPN26"
   },
   "outputs": [],
   "source": [
    "input_shape = (32, 32, 3)\n",
    "num_features = len(cnt.vocabulary_)\n",
    "keras_tf_layers = tf.keras.layers\n",
    "\n",
    "model = keras.Sequential(\n",
    "    [\n",
    "        keras.Input(shape=input_shape),\n",
    "        keras_tf_layers.Conv2D(32, kernel_size=(4, 4), activation=\"relu\"),\n",
    "        keras_tf_layers.MaxPooling2D(pool_size=(2, 2)),\n",
    "        keras_tf_layers.Conv2D(64, kernel_size=(3, 3), activation=\"relu\"),\n",
    "        keras_tf_layers.MaxPooling2D(pool_size=(2, 2)),\n",
    "        keras_tf_layers.Flatten(),\n",
    "        keras_tf_layers.Dropout(0.5),\n",
    "        keras_tf_layers.Dense(num_features, activation=\"sigmoid\"),\n",
    "    ]\n",
    ")"
   ]
  },
  {
   "cell_type": "code",
   "execution_count": null,
   "metadata": {
    "id": "0x1zpimAaa2q"
   },
   "outputs": [],
   "source": [
    "from google.colab import drive\n",
    "drive.mount('/content/drive')"
   ]
  },
  {
   "cell_type": "code",
   "execution_count": null,
   "metadata": {
    "id": "PH2A0jU8QP91"
   },
   "outputs": [],
   "source": [
    "model.compile(loss=\"mean_squared_error\", optimizer=\"adam\", metrics=[\"mae\"])"
   ]
  },
  {
   "cell_type": "code",
   "execution_count": null,
   "metadata": {
    "colab": {
     "background_save": true
    },
    "id": "_NpXfTrRP2rQ"
   },
   "outputs": [],
   "source": [
    "model.fit(data_generator, epochs=100)"
   ]
  },
  {
   "cell_type": "code",
   "execution_count": null,
   "metadata": {
    "colab": {
     "background_save": true
    },
    "id": "0RSQgJ3sQM-K"
   },
   "outputs": [],
   "source": [
    "model.save('/content/drive/MyDrive/meuseum/model2.h5')"
   ]
  },
  {
   "cell_type": "code",
   "execution_count": null,
   "metadata": {
    "id": "0rZpPZqp1h0J"
   },
   "outputs": [],
   "source": [
    "model = keras.models.load_model('/content/drive/MyDrive/meuseum/model2.h5')"
   ]
  },
  {
   "cell_type": "code",
   "execution_count": null,
   "metadata": {
    "id": "vKrfJZFDA12V"
   },
   "outputs": [],
   "source": [
    "df_test = pd.read_csv(\"/content/drive/MyDrive/meuseum/test_dataset_test/test.csv\")"
   ]
  },
  {
   "cell_type": "code",
   "execution_count": null,
   "metadata": {
    "colab": {
     "base_uri": "https://localhost:8080/",
     "height": 206
    },
    "id": "zgpVvk7CDN2K",
    "outputId": "90151e46-e422-43b7-8dc1-c237bedae783"
   },
   "outputs": [
    {
     "data": {
      "text/html": [
       "\n",
       "  <div id=\"df-3c1be30e-6624-4d86-9f3f-5aa10173874a\">\n",
       "    <div class=\"colab-df-container\">\n",
       "      <div>\n",
       "<style scoped>\n",
       "    .dataframe tbody tr th:only-of-type {\n",
       "        vertical-align: middle;\n",
       "    }\n",
       "\n",
       "    .dataframe tbody tr th {\n",
       "        vertical-align: top;\n",
       "    }\n",
       "\n",
       "    .dataframe thead th {\n",
       "        text-align: right;\n",
       "    }\n",
       "</style>\n",
       "<table border=\"1\" class=\"dataframe\">\n",
       "  <thead>\n",
       "    <tr style=\"text-align: right;\">\n",
       "      <th></th>\n",
       "      <th>id</th>\n",
       "      <th>description</th>\n",
       "    </tr>\n",
       "  </thead>\n",
       "  <tbody>\n",
       "    <tr>\n",
       "      <th>0</th>\n",
       "      <td>486</td>\n",
       "      <td>Фотография. Елизавета Алексеевна Юманова.  ПКМ...</td>\n",
       "    </tr>\n",
       "    <tr>\n",
       "      <th>1</th>\n",
       "      <td>813</td>\n",
       "      <td>Фотография. Заседание комитета комсомола мотор...</td>\n",
       "    </tr>\n",
       "    <tr>\n",
       "      <th>2</th>\n",
       "      <td>2980</td>\n",
       "      <td>Фотография. День \"Саланга\".  ПОКМ-18530/638 фо...</td>\n",
       "    </tr>\n",
       "    <tr>\n",
       "      <th>3</th>\n",
       "      <td>13</td>\n",
       "      <td>Фотография. Елизавета Алексеевна Юманова.  ПКМ...</td>\n",
       "    </tr>\n",
       "    <tr>\n",
       "      <th>4</th>\n",
       "      <td>2467</td>\n",
       "      <td>Фотография. \"Универмаг Пермь. Оформление демон...</td>\n",
       "    </tr>\n",
       "  </tbody>\n",
       "</table>\n",
       "</div>\n",
       "      <button class=\"colab-df-convert\" onclick=\"convertToInteractive('df-3c1be30e-6624-4d86-9f3f-5aa10173874a')\"\n",
       "              title=\"Convert this dataframe to an interactive table.\"\n",
       "              style=\"display:none;\">\n",
       "        \n",
       "  <svg xmlns=\"http://www.w3.org/2000/svg\" height=\"24px\"viewBox=\"0 0 24 24\"\n",
       "       width=\"24px\">\n",
       "    <path d=\"M0 0h24v24H0V0z\" fill=\"none\"/>\n",
       "    <path d=\"M18.56 5.44l.94 2.06.94-2.06 2.06-.94-2.06-.94-.94-2.06-.94 2.06-2.06.94zm-11 1L8.5 8.5l.94-2.06 2.06-.94-2.06-.94L8.5 2.5l-.94 2.06-2.06.94zm10 10l.94 2.06.94-2.06 2.06-.94-2.06-.94-.94-2.06-.94 2.06-2.06.94z\"/><path d=\"M17.41 7.96l-1.37-1.37c-.4-.4-.92-.59-1.43-.59-.52 0-1.04.2-1.43.59L10.3 9.45l-7.72 7.72c-.78.78-.78 2.05 0 2.83L4 21.41c.39.39.9.59 1.41.59.51 0 1.02-.2 1.41-.59l7.78-7.78 2.81-2.81c.8-.78.8-2.07 0-2.86zM5.41 20L4 18.59l7.72-7.72 1.47 1.35L5.41 20z\"/>\n",
       "  </svg>\n",
       "      </button>\n",
       "      \n",
       "  <style>\n",
       "    .colab-df-container {\n",
       "      display:flex;\n",
       "      flex-wrap:wrap;\n",
       "      gap: 12px;\n",
       "    }\n",
       "\n",
       "    .colab-df-convert {\n",
       "      background-color: #E8F0FE;\n",
       "      border: none;\n",
       "      border-radius: 50%;\n",
       "      cursor: pointer;\n",
       "      display: none;\n",
       "      fill: #1967D2;\n",
       "      height: 32px;\n",
       "      padding: 0 0 0 0;\n",
       "      width: 32px;\n",
       "    }\n",
       "\n",
       "    .colab-df-convert:hover {\n",
       "      background-color: #E2EBFA;\n",
       "      box-shadow: 0px 1px 2px rgba(60, 64, 67, 0.3), 0px 1px 3px 1px rgba(60, 64, 67, 0.15);\n",
       "      fill: #174EA6;\n",
       "    }\n",
       "\n",
       "    [theme=dark] .colab-df-convert {\n",
       "      background-color: #3B4455;\n",
       "      fill: #D2E3FC;\n",
       "    }\n",
       "\n",
       "    [theme=dark] .colab-df-convert:hover {\n",
       "      background-color: #434B5C;\n",
       "      box-shadow: 0px 1px 3px 1px rgba(0, 0, 0, 0.15);\n",
       "      filter: drop-shadow(0px 1px 2px rgba(0, 0, 0, 0.3));\n",
       "      fill: #FFFFFF;\n",
       "    }\n",
       "  </style>\n",
       "\n",
       "      <script>\n",
       "        const buttonEl =\n",
       "          document.querySelector('#df-3c1be30e-6624-4d86-9f3f-5aa10173874a button.colab-df-convert');\n",
       "        buttonEl.style.display =\n",
       "          google.colab.kernel.accessAllowed ? 'block' : 'none';\n",
       "\n",
       "        async function convertToInteractive(key) {\n",
       "          const element = document.querySelector('#df-3c1be30e-6624-4d86-9f3f-5aa10173874a');\n",
       "          const dataTable =\n",
       "            await google.colab.kernel.invokeFunction('convertToInteractive',\n",
       "                                                     [key], {});\n",
       "          if (!dataTable) return;\n",
       "\n",
       "          const docLinkHtml = 'Like what you see? Visit the ' +\n",
       "            '<a target=\"_blank\" href=https://colab.research.google.com/notebooks/data_table.ipynb>data table notebook</a>'\n",
       "            + ' to learn more about interactive tables.';\n",
       "          element.innerHTML = '';\n",
       "          dataTable['output_type'] = 'display_data';\n",
       "          await google.colab.output.renderOutput(dataTable, element);\n",
       "          const docLink = document.createElement('div');\n",
       "          docLink.innerHTML = docLinkHtml;\n",
       "          element.appendChild(docLink);\n",
       "        }\n",
       "      </script>\n",
       "    </div>\n",
       "  </div>\n",
       "  "
      ],
      "text/plain": [
       "     id                                        description\n",
       "0   486  Фотография. Елизавета Алексеевна Юманова.  ПКМ...\n",
       "1   813  Фотография. Заседание комитета комсомола мотор...\n",
       "2  2980  Фотография. День \"Саланга\".  ПОКМ-18530/638 фо...\n",
       "3    13  Фотография. Елизавета Алексеевна Юманова.  ПКМ...\n",
       "4  2467  Фотография. \"Универмаг Пермь. Оформление демон..."
      ]
     },
     "execution_count": 9,
     "metadata": {},
     "output_type": "execute_result"
    }
   ],
   "source": [
    "df_test.head()"
   ]
  },
  {
   "cell_type": "code",
   "execution_count": null,
   "metadata": {
    "id": "GBLLDGuVEX1d"
   },
   "outputs": [],
   "source": [
    "import os\n",
    "filenames = os.listdir(\"/content/drive/MyDrive/meuseum/test_dataset_test/test\")\n",
    "\n",
    "test_df_img = pd.DataFrame({'id': list(range(len(filenames))),\n",
    "                            'filename': list(map(lambda x: f\"/content/drive/MyDrive/meuseum/test_dataset_test/test/{x}\", filenames))})"
   ]
  },
  {
   "cell_type": "code",
   "execution_count": null,
   "metadata": {
    "colab": {
     "base_uri": "https://localhost:8080/",
     "height": 235
    },
    "id": "8hlWRdUkDPdW",
    "outputId": "7f85aeb5-9dab-46fe-8701-a671e897273c"
   },
   "outputs": [
    {
     "ename": "NameError",
     "evalue": "ignored",
     "output_type": "error",
     "traceback": [
      "\u001b[0;31m---------------------------------------------------------------------------\u001b[0m",
      "\u001b[0;31mNameError\u001b[0m                                 Traceback (most recent call last)",
      "\u001b[0;32m<ipython-input-11-ca27310e35e2>\u001b[0m in \u001b[0;36m<module>\u001b[0;34m\u001b[0m\n\u001b[0;32m----> 1\u001b[0;31m test_datagen = ImageDataGenerator(\n\u001b[0m\u001b[1;32m      2\u001b[0m     rescale=1./255)\n\u001b[1;32m      3\u001b[0m \u001b[0;34m\u001b[0m\u001b[0m\n\u001b[1;32m      4\u001b[0m \u001b[0;34m\u001b[0m\u001b[0m\n\u001b[1;32m      5\u001b[0m test_generator = test_datagen.flow_from_dataframe(\n",
      "\u001b[0;31mNameError\u001b[0m: name 'ImageDataGenerator' is not defined"
     ]
    }
   ],
   "source": [
    "test_datagen = ImageDataGenerator(\n",
    "    rescale=1./255)\n",
    "\n",
    "\n",
    "test_generator = test_datagen.flow_from_dataframe(\n",
    "    test_df_img,\n",
    "    y_col='id',\n",
    "    target_size=(32, 32),\n",
    "    class_mode='raw',\n",
    "    shuffle=False)\n"
   ]
  },
  {
   "cell_type": "code",
   "execution_count": null,
   "metadata": {
    "id": "GbQHKX4YDxSV"
   },
   "outputs": [],
   "source": [
    "raw_predictions = model.predict(test_generator)"
   ]
  },
  {
   "cell_type": "code",
   "execution_count": null,
   "metadata": {
    "id": "Oj2s6qtLF0sH"
   },
   "outputs": [],
   "source": [
    "raw_predictions[0]"
   ]
  },
  {
   "cell_type": "code",
   "execution_count": null,
   "metadata": {
    "id": "597uk-PQGBhX"
   },
   "outputs": [],
   "source": [
    "test_vectors = cnt.transform(df_test['description']).todense()"
   ]
  },
  {
   "cell_type": "code",
   "execution_count": null,
   "metadata": {
    "id": "TZjPQ0wTGqnF"
   },
   "outputs": [],
   "source": [
    "res_map = {}\n",
    "\n",
    "for i in range(len(raw_predictions)):\n",
    "  dist = np.inf\n",
    "  txt_n = None\n",
    "  for j in range(len(test_vectors)):\n",
    "    if j in res_map.values():\n",
    "      continue\n",
    "    \n",
    "    dist_ = np.sum(np.abs(raw_predictions[i] - test_vectors[j]))\n",
    "    if dist_ < dist:\n",
    "      txt_n = j\n",
    "      dist = dist_\n",
    "\n",
    "  res_map[i] = txt_n"
   ]
  },
  {
   "cell_type": "code",
   "execution_count": null,
   "metadata": {
    "id": "GkJGmNqrIwLz"
   },
   "outputs": [],
   "source": [
    "res_imgs = [filenames[y[0]] for y in sorted(res_map.items(), key=lambda x: x[1])]"
   ]
  },
  {
   "cell_type": "code",
   "execution_count": null,
   "metadata": {
    "id": "cE-KL032QE6W"
   },
   "outputs": [],
   "source": [
    "submission = pd.DataFrame({'id': df_test['id'], 'object_img': list(map(lambda x: x.split('.')[0], res_imgs))})"
   ]
  },
  {
   "cell_type": "code",
   "execution_count": null,
   "metadata": {
    "colab": {
     "base_uri": "https://localhost:8080/",
     "height": 424
    },
    "id": "rv62g0RXPhB4",
    "outputId": "9e42ecff-c2f0-4e29-e1be-fdd6be6e3361"
   },
   "outputs": [
    {
     "data": {
      "text/html": [
       "\n",
       "  <div id=\"df-0f9e1bef-f62d-4e79-bb3b-c2d959a4e4ac\">\n",
       "    <div class=\"colab-df-container\">\n",
       "      <div>\n",
       "<style scoped>\n",
       "    .dataframe tbody tr th:only-of-type {\n",
       "        vertical-align: middle;\n",
       "    }\n",
       "\n",
       "    .dataframe tbody tr th {\n",
       "        vertical-align: top;\n",
       "    }\n",
       "\n",
       "    .dataframe thead th {\n",
       "        text-align: right;\n",
       "    }\n",
       "</style>\n",
       "<table border=\"1\" class=\"dataframe\">\n",
       "  <thead>\n",
       "    <tr style=\"text-align: right;\">\n",
       "      <th></th>\n",
       "      <th>id</th>\n",
       "      <th>object_img</th>\n",
       "    </tr>\n",
       "  </thead>\n",
       "  <tbody>\n",
       "    <tr>\n",
       "      <th>0</th>\n",
       "      <td>486</td>\n",
       "      <td>1483</td>\n",
       "    </tr>\n",
       "    <tr>\n",
       "      <th>1</th>\n",
       "      <td>813</td>\n",
       "      <td>521</td>\n",
       "    </tr>\n",
       "    <tr>\n",
       "      <th>2</th>\n",
       "      <td>2980</td>\n",
       "      <td>1624</td>\n",
       "    </tr>\n",
       "    <tr>\n",
       "      <th>3</th>\n",
       "      <td>13</td>\n",
       "      <td>2990</td>\n",
       "    </tr>\n",
       "    <tr>\n",
       "      <th>4</th>\n",
       "      <td>2467</td>\n",
       "      <td>789</td>\n",
       "    </tr>\n",
       "    <tr>\n",
       "      <th>...</th>\n",
       "      <td>...</td>\n",
       "      <td>...</td>\n",
       "    </tr>\n",
       "    <tr>\n",
       "      <th>895</th>\n",
       "      <td>2860</td>\n",
       "      <td>928</td>\n",
       "    </tr>\n",
       "    <tr>\n",
       "      <th>896</th>\n",
       "      <td>2551</td>\n",
       "      <td>2149</td>\n",
       "    </tr>\n",
       "    <tr>\n",
       "      <th>897</th>\n",
       "      <td>2399</td>\n",
       "      <td>944</td>\n",
       "    </tr>\n",
       "    <tr>\n",
       "      <th>898</th>\n",
       "      <td>1492</td>\n",
       "      <td>1957</td>\n",
       "    </tr>\n",
       "    <tr>\n",
       "      <th>899</th>\n",
       "      <td>2895</td>\n",
       "      <td>300</td>\n",
       "    </tr>\n",
       "  </tbody>\n",
       "</table>\n",
       "<p>900 rows × 2 columns</p>\n",
       "</div>\n",
       "      <button class=\"colab-df-convert\" onclick=\"convertToInteractive('df-0f9e1bef-f62d-4e79-bb3b-c2d959a4e4ac')\"\n",
       "              title=\"Convert this dataframe to an interactive table.\"\n",
       "              style=\"display:none;\">\n",
       "        \n",
       "  <svg xmlns=\"http://www.w3.org/2000/svg\" height=\"24px\"viewBox=\"0 0 24 24\"\n",
       "       width=\"24px\">\n",
       "    <path d=\"M0 0h24v24H0V0z\" fill=\"none\"/>\n",
       "    <path d=\"M18.56 5.44l.94 2.06.94-2.06 2.06-.94-2.06-.94-.94-2.06-.94 2.06-2.06.94zm-11 1L8.5 8.5l.94-2.06 2.06-.94-2.06-.94L8.5 2.5l-.94 2.06-2.06.94zm10 10l.94 2.06.94-2.06 2.06-.94-2.06-.94-.94-2.06-.94 2.06-2.06.94z\"/><path d=\"M17.41 7.96l-1.37-1.37c-.4-.4-.92-.59-1.43-.59-.52 0-1.04.2-1.43.59L10.3 9.45l-7.72 7.72c-.78.78-.78 2.05 0 2.83L4 21.41c.39.39.9.59 1.41.59.51 0 1.02-.2 1.41-.59l7.78-7.78 2.81-2.81c.8-.78.8-2.07 0-2.86zM5.41 20L4 18.59l7.72-7.72 1.47 1.35L5.41 20z\"/>\n",
       "  </svg>\n",
       "      </button>\n",
       "      \n",
       "  <style>\n",
       "    .colab-df-container {\n",
       "      display:flex;\n",
       "      flex-wrap:wrap;\n",
       "      gap: 12px;\n",
       "    }\n",
       "\n",
       "    .colab-df-convert {\n",
       "      background-color: #E8F0FE;\n",
       "      border: none;\n",
       "      border-radius: 50%;\n",
       "      cursor: pointer;\n",
       "      display: none;\n",
       "      fill: #1967D2;\n",
       "      height: 32px;\n",
       "      padding: 0 0 0 0;\n",
       "      width: 32px;\n",
       "    }\n",
       "\n",
       "    .colab-df-convert:hover {\n",
       "      background-color: #E2EBFA;\n",
       "      box-shadow: 0px 1px 2px rgba(60, 64, 67, 0.3), 0px 1px 3px 1px rgba(60, 64, 67, 0.15);\n",
       "      fill: #174EA6;\n",
       "    }\n",
       "\n",
       "    [theme=dark] .colab-df-convert {\n",
       "      background-color: #3B4455;\n",
       "      fill: #D2E3FC;\n",
       "    }\n",
       "\n",
       "    [theme=dark] .colab-df-convert:hover {\n",
       "      background-color: #434B5C;\n",
       "      box-shadow: 0px 1px 3px 1px rgba(0, 0, 0, 0.15);\n",
       "      filter: drop-shadow(0px 1px 2px rgba(0, 0, 0, 0.3));\n",
       "      fill: #FFFFFF;\n",
       "    }\n",
       "  </style>\n",
       "\n",
       "      <script>\n",
       "        const buttonEl =\n",
       "          document.querySelector('#df-0f9e1bef-f62d-4e79-bb3b-c2d959a4e4ac button.colab-df-convert');\n",
       "        buttonEl.style.display =\n",
       "          google.colab.kernel.accessAllowed ? 'block' : 'none';\n",
       "\n",
       "        async function convertToInteractive(key) {\n",
       "          const element = document.querySelector('#df-0f9e1bef-f62d-4e79-bb3b-c2d959a4e4ac');\n",
       "          const dataTable =\n",
       "            await google.colab.kernel.invokeFunction('convertToInteractive',\n",
       "                                                     [key], {});\n",
       "          if (!dataTable) return;\n",
       "\n",
       "          const docLinkHtml = 'Like what you see? Visit the ' +\n",
       "            '<a target=\"_blank\" href=https://colab.research.google.com/notebooks/data_table.ipynb>data table notebook</a>'\n",
       "            + ' to learn more about interactive tables.';\n",
       "          element.innerHTML = '';\n",
       "          dataTable['output_type'] = 'display_data';\n",
       "          await google.colab.output.renderOutput(dataTable, element);\n",
       "          const docLink = document.createElement('div');\n",
       "          docLink.innerHTML = docLinkHtml;\n",
       "          element.appendChild(docLink);\n",
       "        }\n",
       "      </script>\n",
       "    </div>\n",
       "  </div>\n",
       "  "
      ],
      "text/plain": [
       "       id object_img\n",
       "0     486       1483\n",
       "1     813        521\n",
       "2    2980       1624\n",
       "3      13       2990\n",
       "4    2467        789\n",
       "..    ...        ...\n",
       "895  2860        928\n",
       "896  2551       2149\n",
       "897  2399        944\n",
       "898  1492       1957\n",
       "899  2895        300\n",
       "\n",
       "[900 rows x 2 columns]"
      ]
     },
     "execution_count": 40,
     "metadata": {},
     "output_type": "execute_result"
    }
   ],
   "source": [
    "submission"
   ]
  },
  {
   "cell_type": "code",
   "execution_count": null,
   "metadata": {
    "id": "XTC8ErPHQAXs"
   },
   "outputs": [],
   "source": [
    "submission.to_csv('/content/drive/MyDrive/meuseum/submission3.csv', index=False)"
   ]
  },
  {
   "cell_type": "code",
   "execution_count": null,
   "metadata": {
    "colab": {
     "base_uri": "https://localhost:8080/",
     "height": 424
    },
    "id": "lcekmmZTQlys",
    "outputId": "109c2b81-17bc-42f3-af4c-273a8fe75235"
   },
   "outputs": [
    {
     "data": {
      "text/html": [
       "\n",
       "  <div id=\"df-edb7074d-72ae-4242-8ffe-6f7f94e8f331\">\n",
       "    <div class=\"colab-df-container\">\n",
       "      <div>\n",
       "<style scoped>\n",
       "    .dataframe tbody tr th:only-of-type {\n",
       "        vertical-align: middle;\n",
       "    }\n",
       "\n",
       "    .dataframe tbody tr th {\n",
       "        vertical-align: top;\n",
       "    }\n",
       "\n",
       "    .dataframe thead th {\n",
       "        text-align: right;\n",
       "    }\n",
       "</style>\n",
       "<table border=\"1\" class=\"dataframe\">\n",
       "  <thead>\n",
       "    <tr style=\"text-align: right;\">\n",
       "      <th></th>\n",
       "      <th>id</th>\n",
       "      <th>description</th>\n",
       "      <th>object_img</th>\n",
       "    </tr>\n",
       "  </thead>\n",
       "  <tbody>\n",
       "    <tr>\n",
       "      <th>1408</th>\n",
       "      <td>725</td>\n",
       "      <td>Монета ДМ/Н-1104 ПОКМ-3873/6 серебро; штамповк...</td>\n",
       "      <td>1.0</td>\n",
       "    </tr>\n",
       "    <tr>\n",
       "      <th>2075</th>\n",
       "      <td>134</td>\n",
       "      <td>Монета ДМ/Н-1101 ПОКМ-3873/3 серебро; штамповк...</td>\n",
       "      <td>2.0</td>\n",
       "    </tr>\n",
       "    <tr>\n",
       "      <th>1083</th>\n",
       "      <td>1617</td>\n",
       "      <td>Монета ДМ/Н-1100 ПОКМ-3873/2 серебро; штамповк...</td>\n",
       "      <td>3.0</td>\n",
       "    </tr>\n",
       "    <tr>\n",
       "      <th>385</th>\n",
       "      <td>646</td>\n",
       "      <td>Монета ДМ/Н-1103 ПОКМ-3873/5 серебро; штамповк...</td>\n",
       "      <td>4.0</td>\n",
       "    </tr>\n",
       "    <tr>\n",
       "      <th>462</th>\n",
       "      <td>705</td>\n",
       "      <td>Монета ДМ/Н-850 ПОКМ-11035/17 серебро; штампов...</td>\n",
       "      <td>5.0</td>\n",
       "    </tr>\n",
       "    <tr>\n",
       "      <th>...</th>\n",
       "      <td>...</td>\n",
       "      <td>...</td>\n",
       "      <td>...</td>\n",
       "    </tr>\n",
       "    <tr>\n",
       "      <th>895</th>\n",
       "      <td>2860</td>\n",
       "      <td>Фотонегатив пленочный. Делегаты VI съезда комп...</td>\n",
       "      <td>NaN</td>\n",
       "    </tr>\n",
       "    <tr>\n",
       "      <th>896</th>\n",
       "      <td>2551</td>\n",
       "      <td>Изразец печной  ПОКМ-20318/52 формовка,глина (...</td>\n",
       "      <td>NaN</td>\n",
       "    </tr>\n",
       "    <tr>\n",
       "      <th>897</th>\n",
       "      <td>2399</td>\n",
       "      <td>Фотография. \"Универмаг Пермь. Оформление демон...</td>\n",
       "      <td>NaN</td>\n",
       "    </tr>\n",
       "    <tr>\n",
       "      <th>898</th>\n",
       "      <td>1492</td>\n",
       "      <td>ПЗС. Подвеска шумящая коньковая  ПКМ-21222/274...</td>\n",
       "      <td>NaN</td>\n",
       "    </tr>\n",
       "    <tr>\n",
       "      <th>899</th>\n",
       "      <td>2895</td>\n",
       "      <td>Фотография. Сотрудники обкома ВЛКСМ на вокзале...</td>\n",
       "      <td>NaN</td>\n",
       "    </tr>\n",
       "  </tbody>\n",
       "</table>\n",
       "<p>2998 rows × 3 columns</p>\n",
       "</div>\n",
       "      <button class=\"colab-df-convert\" onclick=\"convertToInteractive('df-edb7074d-72ae-4242-8ffe-6f7f94e8f331')\"\n",
       "              title=\"Convert this dataframe to an interactive table.\"\n",
       "              style=\"display:none;\">\n",
       "        \n",
       "  <svg xmlns=\"http://www.w3.org/2000/svg\" height=\"24px\"viewBox=\"0 0 24 24\"\n",
       "       width=\"24px\">\n",
       "    <path d=\"M0 0h24v24H0V0z\" fill=\"none\"/>\n",
       "    <path d=\"M18.56 5.44l.94 2.06.94-2.06 2.06-.94-2.06-.94-.94-2.06-.94 2.06-2.06.94zm-11 1L8.5 8.5l.94-2.06 2.06-.94-2.06-.94L8.5 2.5l-.94 2.06-2.06.94zm10 10l.94 2.06.94-2.06 2.06-.94-2.06-.94-.94-2.06-.94 2.06-2.06.94z\"/><path d=\"M17.41 7.96l-1.37-1.37c-.4-.4-.92-.59-1.43-.59-.52 0-1.04.2-1.43.59L10.3 9.45l-7.72 7.72c-.78.78-.78 2.05 0 2.83L4 21.41c.39.39.9.59 1.41.59.51 0 1.02-.2 1.41-.59l7.78-7.78 2.81-2.81c.8-.78.8-2.07 0-2.86zM5.41 20L4 18.59l7.72-7.72 1.47 1.35L5.41 20z\"/>\n",
       "  </svg>\n",
       "      </button>\n",
       "      \n",
       "  <style>\n",
       "    .colab-df-container {\n",
       "      display:flex;\n",
       "      flex-wrap:wrap;\n",
       "      gap: 12px;\n",
       "    }\n",
       "\n",
       "    .colab-df-convert {\n",
       "      background-color: #E8F0FE;\n",
       "      border: none;\n",
       "      border-radius: 50%;\n",
       "      cursor: pointer;\n",
       "      display: none;\n",
       "      fill: #1967D2;\n",
       "      height: 32px;\n",
       "      padding: 0 0 0 0;\n",
       "      width: 32px;\n",
       "    }\n",
       "\n",
       "    .colab-df-convert:hover {\n",
       "      background-color: #E2EBFA;\n",
       "      box-shadow: 0px 1px 2px rgba(60, 64, 67, 0.3), 0px 1px 3px 1px rgba(60, 64, 67, 0.15);\n",
       "      fill: #174EA6;\n",
       "    }\n",
       "\n",
       "    [theme=dark] .colab-df-convert {\n",
       "      background-color: #3B4455;\n",
       "      fill: #D2E3FC;\n",
       "    }\n",
       "\n",
       "    [theme=dark] .colab-df-convert:hover {\n",
       "      background-color: #434B5C;\n",
       "      box-shadow: 0px 1px 3px 1px rgba(0, 0, 0, 0.15);\n",
       "      filter: drop-shadow(0px 1px 2px rgba(0, 0, 0, 0.3));\n",
       "      fill: #FFFFFF;\n",
       "    }\n",
       "  </style>\n",
       "\n",
       "      <script>\n",
       "        const buttonEl =\n",
       "          document.querySelector('#df-edb7074d-72ae-4242-8ffe-6f7f94e8f331 button.colab-df-convert');\n",
       "        buttonEl.style.display =\n",
       "          google.colab.kernel.accessAllowed ? 'block' : 'none';\n",
       "\n",
       "        async function convertToInteractive(key) {\n",
       "          const element = document.querySelector('#df-edb7074d-72ae-4242-8ffe-6f7f94e8f331');\n",
       "          const dataTable =\n",
       "            await google.colab.kernel.invokeFunction('convertToInteractive',\n",
       "                                                     [key], {});\n",
       "          if (!dataTable) return;\n",
       "\n",
       "          const docLinkHtml = 'Like what you see? Visit the ' +\n",
       "            '<a target=\"_blank\" href=https://colab.research.google.com/notebooks/data_table.ipynb>data table notebook</a>'\n",
       "            + ' to learn more about interactive tables.';\n",
       "          element.innerHTML = '';\n",
       "          dataTable['output_type'] = 'display_data';\n",
       "          await google.colab.output.renderOutput(dataTable, element);\n",
       "          const docLink = document.createElement('div');\n",
       "          docLink.innerHTML = docLinkHtml;\n",
       "          element.appendChild(docLink);\n",
       "        }\n",
       "      </script>\n",
       "    </div>\n",
       "  </div>\n",
       "  "
      ],
      "text/plain": [
       "        id                                        description  object_img\n",
       "1408   725  Монета ДМ/Н-1104 ПОКМ-3873/6 серебро; штамповк...         1.0\n",
       "2075   134  Монета ДМ/Н-1101 ПОКМ-3873/3 серебро; штамповк...         2.0\n",
       "1083  1617  Монета ДМ/Н-1100 ПОКМ-3873/2 серебро; штамповк...         3.0\n",
       "385    646  Монета ДМ/Н-1103 ПОКМ-3873/5 серебро; штамповк...         4.0\n",
       "462    705  Монета ДМ/Н-850 ПОКМ-11035/17 серебро; штампов...         5.0\n",
       "...    ...                                                ...         ...\n",
       "895   2860  Фотонегатив пленочный. Делегаты VI съезда комп...         NaN\n",
       "896   2551  Изразец печной  ПОКМ-20318/52 формовка,глина (...         NaN\n",
       "897   2399  Фотография. \"Универмаг Пермь. Оформление демон...         NaN\n",
       "898   1492  ПЗС. Подвеска шумящая коньковая  ПКМ-21222/274...         NaN\n",
       "899   2895  Фотография. Сотрудники обкома ВЛКСМ на вокзале...         NaN\n",
       "\n",
       "[2998 rows x 3 columns]"
      ]
     },
     "execution_count": 12,
     "metadata": {},
     "output_type": "execute_result"
    }
   ],
   "source": [
    "pd.concat([df_train, df_test]).sort_values(by='object_img')"
   ]
  },
  {
   "cell_type": "code",
   "execution_count": null,
   "metadata": {
    "id": "FGrinaOD_E-Z"
   },
   "outputs": [],
   "source": [
    "train_vectors = cnt.transform(df_train['description']).todense()\n",
    "test_vectors = cnt.transform(df_test['description']).todense()"
   ]
  },
  {
   "cell_type": "code",
   "execution_count": null,
   "metadata": {
    "id": "7NSIY60cAS3m"
   },
   "outputs": [],
   "source": [
    "from sklearn.metrics.pairwise import cosine_similarity"
   ]
  },
  {
   "cell_type": "code",
   "execution_count": null,
   "metadata": {
    "colab": {
     "base_uri": "https://localhost:8080/"
    },
    "id": "1ImdYSdKAAIC",
    "outputId": "bdb75f33-cd80-4cb8-f939-b927d50c38dc"
   },
   "outputs": [
    {
     "name": "stderr",
     "output_type": "stream",
     "text": [
      "/usr/local/lib/python3.7/dist-packages/sklearn/utils/validation.py:598: FutureWarning: np.matrix usage is deprecated in 1.0 and will raise a TypeError in 1.2. Please convert to a numpy array with np.asarray. For more information see: https://numpy.org/doc/stable/reference/generated/numpy.matrix.html\n",
      "  FutureWarning,\n",
      "/usr/local/lib/python3.7/dist-packages/sklearn/utils/validation.py:598: FutureWarning: np.matrix usage is deprecated in 1.0 and will raise a TypeError in 1.2. Please convert to a numpy array with np.asarray. For more information see: https://numpy.org/doc/stable/reference/generated/numpy.matrix.html\n",
      "  FutureWarning,\n"
     ]
    }
   ],
   "source": [
    "similarities = cosine_similarity(train_vectors, test_vectors)"
   ]
  },
  {
   "cell_type": "code",
   "execution_count": null,
   "metadata": {
    "id": "uXwJ66i8ALjl"
   },
   "outputs": [],
   "source": [
    "similar_train_idx = np.argmax(similarities, axis=0)"
   ]
  },
  {
   "cell_type": "code",
   "execution_count": null,
   "metadata": {
    "colab": {
     "base_uri": "https://localhost:8080/"
    },
    "id": "c_uvCFFNANFE",
    "outputId": "89f6c337-e133-4c79-c941-546ae12f191a"
   },
   "outputs": [
    {
     "data": {
      "text/plain": [
       "array([ 211, 1224, 1549,  211,  565,  946,  622,   90, 1532, 1035, 1101,\n",
       "        799,  615,   12, 1482, 1025, 1518,  124,  451,  504,   94,  870,\n",
       "       2030,   15,   15,  108,   15,  809,   15,  172, 1082,   13,  713,\n",
       "         15,   43, 1573,    0, 1793,   21,  248,    0,  130,  713,   13,\n",
       "         15, 1204,   43,  878, 1883,  775,  398, 2053,  754,  898,   15,\n",
       "        261,   15, 1936,   15,  136,  543,  688,   15,   43, 1131,   38,\n",
       "       1213, 1566,  875,  789,    5,    0,  328,  485,  903,  396,  238,\n",
       "       1025, 1657, 1793,   43,  932,  434,   20,   15,  427,  630,   38,\n",
       "         51, 2072, 1010, 2041,    1, 1903, 1033, 1217,  347,  379,   43,\n",
       "        525, 1589,  496,  108,    0, 1585,  227,  520,  135,  283, 1532,\n",
       "         55,  174, 1131, 1346,  130,   45,  698, 1769, 1641, 1720,  458,\n",
       "       1939,   38,  525, 1634, 1465, 1921,  289,   43, 1024, 1971, 1306,\n",
       "       1842,    0,  294,   38, 1487,  134, 2083,  331,   15,  913,    0,\n",
       "        920,  499,  754,  131,  211,   15,   43,   13,   23,   25,   15,\n",
       "        808,  352,   15,  163, 1473, 1337,   13,  825, 1652,  536,  994,\n",
       "        782, 2071,   21,   15,   97,   43,   43,   12, 1483,  325,   15,\n",
       "         15,  473,   59, 1950,   15,  789,  801,    0,  682,  163,  892,\n",
       "        294, 1532,  731, 1047,  122,  354,  135, 1549,   97,   97,   15,\n",
       "         43,  130,   12, 1921,   13,  930,  222, 1883, 1562,  427,   21,\n",
       "        376,  150,  212,  213,  218,    5,   97,  123, 1114,  996,    0,\n",
       "         15,    0,  374,  889,  429, 1226,   38,  183,  678, 1494,  325,\n",
       "         15, 1774,   97, 1890,   97,   24, 1555,   41, 1348,  754,  670,\n",
       "       1939, 1668, 1125,  257,  241,  427, 1756, 1217, 1258,    0,  713,\n",
       "         15,  451,  426, 1647, 1573,  819,  127,  108,    0,   21,  325,\n",
       "       1640,  382, 1549,  789,  810,  921,  168, 1519,   97,   13,  803,\n",
       "       1700,    5,  130,   15,   21,   15,   12, 1854,  211,  970,  352,\n",
       "        971,  104,  131,  359, 1793,  264,   76,    0, 1259,   13,  651,\n",
       "       1921,  977,  325,  884, 1473,   15,  977,  870, 1573, 1025,   43,\n",
       "        392,   15,    8,    0,  122, 1343,  347, 1360,   12,  123,  779,\n",
       "         55, 1885,  589,  967,  206,   97,  525, 1422, 1158,   55,  525,\n",
       "         43, 1636,   38,  988, 1278,  883,  543,  191,   15,  921,  875,\n",
       "         21, 1627,  458,  190, 1405,   13, 1067,   55,  134,  639,  140,\n",
       "        376,   61,   15,   15, 1647,   38, 1684,  352,  554,  898,  996,\n",
       "         15,   97,  274,  408,  754,  688,  513,  274,   55,  401,   15,\n",
       "       1530,   97,  441,   97,  839, 1407, 1381,  801,   16,    1,  188,\n",
       "          0,  706,    0, 1723,  212, 1092, 1726,   15,   15,  132, 1385,\n",
       "       2040,   15, 2057,  670, 1441,  319,   15,  881,  951, 1393,   61,\n",
       "         38, 1072,  923,  273,  108, 2071,    2,    0, 1489, 1224,  455,\n",
       "         55,  870,   97,  180,  172,   61, 1866,  578,  135,  306,  789,\n",
       "         38, 1866,   38,  359,   55,   15,   15, 1332,   43,  629,  416,\n",
       "        640,   43,  823,  670,  131,  325, 1025, 1790, 1054,   97,   13,\n",
       "       1890, 1521,  597, 1496,  115,  242, 1519, 2040, 1731,  586, 1188,\n",
       "         15,  687, 1101,  163,   15,    0, 2044,   21, 1555,  991,  274,\n",
       "        930,   15,   13,  946,  114, 1910,  290,  150,  163,   12, 1087,\n",
       "       1666, 1056,  374,   43,  168,   12,  427, 1016, 1145, 1069, 1226,\n",
       "        427, 1573,  451,  163, 1864, 1578, 1025,  376,   28,  191,  352,\n",
       "        997,  163,   21,   15,  880, 1668,   15, 1088,  925,  228,  892,\n",
       "        830,  463,  750,  525, 1087,  572, 1654, 1092,   97,  135,  606,\n",
       "       1971,   15,  335,  525,   43,   38,  429,  108,   31,   38, 1566,\n",
       "        137,  336,  211,   23, 1573,  136,  892, 1864,    5,   97,  525,\n",
       "       2071,  425,  306,   43, 1507,  211,   15, 1774, 1092, 1213,   15,\n",
       "        451,  996, 2043,   43, 1087, 1354,  765, 1573, 1226, 1843,  418,\n",
       "         38,  143,  108,  740, 2062, 2071,  803,    0,  517,  235,  779,\n",
       "       1482,    0,   35,  946, 1025, 1573,   43,    0, 1610, 1764,  325,\n",
       "       1088,   15, 1394, 1092,  783, 1855,  862,   54,  325,  114, 1985,\n",
       "        248, 1489,   21,  490,   15,  903,  710,   38,   55, 1937,  899,\n",
       "         15,  428,  135,  286,  156,   15, 2063, 1215, 1666, 1578,    0,\n",
       "       1037,  509,    0,   36,  182,  703,  480, 1379,   38, 1430,    2,\n",
       "       1025, 2077,  867,  398, 1590, 1881,   97,  537,   15,    2, 2071,\n",
       "         82,    0, 1770,  812, 1091,  803,   97,   43,  325,  330,   76,\n",
       "        123,  496, 2026,  158, 2028, 1910,  398,   31, 1184,  340,    0,\n",
       "         13, 1555,  777,  713,  496,  213,  781,  568,   75,  684, 1392,\n",
       "        878,  451,   15, 1111,  903,  180,  232, 1519,  441,   15,  238,\n",
       "        525,   43,   13,  425,    0, 1683,   12, 1566,   15,  325,   21,\n",
       "       1950,   38,  157,  887,  427, 2025,  525,   38,   15,  150,   38,\n",
       "        156, 1534,    4,  427, 1092, 1461,    0,    0,   97,   38, 1269,\n",
       "         15,  399,    0,  238,   15,  123,   23, 1185, 1934,  368,  620,\n",
       "        713,   15,  896,  951,  999,  354,  204,  247,   87, 1577,  612,\n",
       "       1147,   97,  226,  330,  636,   31,  630,  878,   38,   15,   15,\n",
       "        260,   29, 1904, 2041,   43,   15,  744,   49, 1115,  308, 1155,\n",
       "       2041, 1340,   43,   15,   15,  715,  256, 1256,   15,    0,  267,\n",
       "       1129,   97,   15,  219, 1141,  256,    0,  139,  416,  250,  108,\n",
       "        499,  347,   97,  912, 1004,   97,  285, 2057, 1229,  705,  130,\n",
       "        416,   97,   15, 1185,   97, 1693, 2006,  428,  577, 1217, 1161,\n",
       "        241,  290,  706,  201,  427, 1004,  360, 1681, 1116,  213,   94,\n",
       "         12,  633,   87, 1582,   15, 1573,  306,  331,  513,   15,   13,\n",
       "        218,   15,   13,  916,  211, 1602,   30,  896,  165,  378,   21,\n",
       "       1532, 1155,  699,  163,  182,   15,    0,  520,   31, 1366,  525,\n",
       "       1392, 1549,   76,   43,  331, 1329,  242,  108,  754,  330,  150,\n",
       "        523,   21,   75, 1131,   55,   49,  463, 1215,   15,  798, 1218,\n",
       "       1393,   21,  525,  123,   21, 1937, 1519,  636,    0,  937, 1937,\n",
       "         15,  456, 1988, 1777,  427,   97, 1193,  331,  799])"
      ]
     },
     "execution_count": 19,
     "metadata": {},
     "output_type": "execute_result"
    }
   ],
   "source": [
    "similar_train_idx"
   ]
  },
  {
   "cell_type": "code",
   "execution_count": null,
   "metadata": {
    "id": "mIUvdVUFAr0g"
   },
   "outputs": [],
   "source": [
    "import os\n",
    "test_labels = [int(x.split('.')[0]) for x in os.listdir(\"/content/drive/MyDrive/meuseum/test_dataset_test/test\")]"
   ]
  },
  {
   "cell_type": "code",
   "execution_count": null,
   "metadata": {
    "id": "zTwlccGyCU0z"
   },
   "outputs": [],
   "source": [
    "train_labels = [int(x) for x in df_train['object_img']]"
   ]
  },
  {
   "cell_type": "code",
   "execution_count": null,
   "metadata": {
    "id": "gS4ZlJD0BQr4"
   },
   "outputs": [],
   "source": [
    "mapping = {}\n",
    "\n",
    "for i, sim in enumerate(similar_train_idx):\n",
    "  target_train = train_labels[sim]\n",
    "  for j in range(1, 500):\n",
    "    if target_train + j not in mapping:\n",
    "      mapping[target_train + j] = i\n",
    "      break\n",
    "    if target_train - j not in mapping:\n",
    "      mapping[target_train - j] = i\n",
    "      break\n",
    "\n"
   ]
  },
  {
   "cell_type": "code",
   "execution_count": null,
   "metadata": {
    "id": "_b0v-oroBENh"
   },
   "outputs": [],
   "source": [
    "result = [x[1] for x in sorted({v: k for k, v in mapping.items()}.items())]"
   ]
  },
  {
   "cell_type": "code",
   "execution_count": null,
   "metadata": {
    "id": "Inh2IfiVBFft"
   },
   "outputs": [],
   "source": [
    "submission = pd.DataFrame({'id': df_test['id'], 'object_img': result})"
   ]
  },
  {
   "cell_type": "code",
   "execution_count": null,
   "metadata": {
    "id": "_UyWxZ2GDmkP"
   },
   "outputs": [],
   "source": [
    "submission.to_csv('/content/drive/MyDrive/meuseum/submission_02.csv', index=False)"
   ]
  },
  {
   "cell_type": "code",
   "execution_count": null,
   "metadata": {
    "id": "UpKi5YzEDoPi"
   },
   "outputs": [],
   "source": []
  }
 ],
 "metadata": {
  "colab": {
   "collapsed_sections": [],
   "provenance": []
  },
  "kernelspec": {
   "display_name": "Python 3",
   "language": "python",
   "name": "python3"
  },
  "language_info": {
   "codemirror_mode": {
    "name": "ipython",
    "version": 3
   },
   "file_extension": ".py",
   "mimetype": "text/x-python",
   "name": "python",
   "nbconvert_exporter": "python",
   "pygments_lexer": "ipython3",
   "version": "3.8.8"
  }
 },
 "nbformat": 4,
 "nbformat_minor": 1
}
