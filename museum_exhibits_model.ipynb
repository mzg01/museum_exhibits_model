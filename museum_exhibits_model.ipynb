{
 "cells": [
  {
   "cell_type": "code",
   "execution_count": null,
   "metadata": {
    "colab": {
     "base_uri": "https://localhost:8080/"
    },
    "id": "joevALM1wtF3",
    "outputId": "1313f7c1-218f-47cf-a3f3-370cef482cbf"
   },
   "outputs": [],
   "source": [
    "import numpy as np\n",
    "from tensorflow import keras\n",
    "import tensorflow as tf\n",
    "import pandas as pd\n",
    "\n",
    "\n",
    "from google.colab import drive\n",
    "drive.mount('/content/drive')"
   ]
  },
  {
   "cell_type": "code",
   "execution_count": null,
   "metadata": {
    "id": "a39ARZ_m4ycT"
   },
   "outputs": [],
   "source": [
    "#!pip install patool\n",
    "#import patoolib\n",
    "#patoolib.extract_archive(\"/content/drive/MyDrive/museum/museum_exhibits_cv_hack.rar\", outdir=\"/content/drive/MyDrive/museum/\")"
   ]
  },
  {
   "cell_type": "code",
   "execution_count": null,
   "metadata": {
    "id": "RbaqTb5fK7JQ"
   },
   "outputs": [],
   "source": [
    "df_train = pd.read_csv(\"/content/drive/MyDrive/museum/train_dataset_train/train.csv\")"
   ]
  },
  {
   "cell_type": "code",
   "execution_count": null,
   "metadata": {
    "colab": {
     "base_uri": "https://localhost:8080/",
     "height": 206
    },
    "id": "FBdL7hmeLQTh",
    "outputId": "74c0fab9-ead4-4cd9-dc52-5c507222d2b5"
   },
   "outputs": [],
   "source": [
    "df_train.head()"
   ]
  },
  {
   "cell_type": "code",
   "execution_count": null,
   "metadata": {
    "id": "lsukmF_NOPwj"
   },
   "outputs": [],
   "source": [
    "df_train.index = df_train['id']"
   ]
  },
  {
   "cell_type": "code",
   "execution_count": null,
   "metadata": {
    "colab": {
     "base_uri": "https://localhost:8080/",
     "height": 143
    },
    "id": "AfwYZIdzOXOS",
    "outputId": "6149868a-1c40-4694-8808-c478d0924344"
   },
   "outputs": [],
   "source": [
    "df_train.loc[[520, 1817]]"
   ]
  },
  {
   "cell_type": "code",
   "execution_count": null,
   "metadata": {
    "id": "DMcHaP2eLTSq"
   },
   "outputs": [],
   "source": [
    "df_train['filename'] = df_train['object_img'].apply(lambda x: f\"/content/drive/MyDrive/museum/train_dataset_train/train/{x}.png\")"
   ]
  },
  {
   "cell_type": "code",
   "execution_count": null,
   "metadata": {
    "id": "bia45e96yCY8"
   },
   "outputs": [],
   "source": [
    "import tensorflow as tf\n",
    "from tensorflow import keras\n",
    "from tensorflow.keras import layers\n",
    "from tensorflow.keras.layers.experimental.preprocessing import TextVectorization\n",
    "import string\n",
    "import re\n",
    "from tensorflow.keras.preprocessing.image import ImageDataGenerator\n",
    "from tensorflow.keras.utils import Sequence"
   ]
  },
  {
   "cell_type": "code",
   "execution_count": null,
   "metadata": {
    "colab": {
     "base_uri": "https://localhost:8080/"
    },
    "id": "oA-U2nsxKroC",
    "outputId": "ed26c7de-1e9b-48dc-f726-948b5d023a7e"
   },
   "outputs": [],
   "source": [
    "train_datagen = ImageDataGenerator(\n",
    "    rescale=1./255,\n",
    "    shear_range=0.2,\n",
    "    zoom_range=0.2,\n",
    "    horizontal_flip=True)\n",
    "\n",
    "\n",
    "train_generator = train_datagen.flow_from_dataframe(\n",
    "    df_train,\n",
    "    y_col='id',\n",
    "    target_size=(32, 32),\n",
    "    batch_size=32,\n",
    "    class_mode='raw')"
   ]
  },
  {
   "cell_type": "code",
   "execution_count": null,
   "metadata": {
    "colab": {
     "base_uri": "https://localhost:8080/"
    },
    "id": "LWzXT63jNhEB",
    "outputId": "aa81e2fc-535d-4ee7-e6b0-97053e78505b"
   },
   "outputs": [],
   "source": [
    "from sklearn.feature_extraction.text import CountVectorizer\n",
    "\n",
    "cnt = CountVectorizer(min_df=0.07)\n",
    "cnt.fit_transform(df_train['description'])"
   ]
  },
  {
   "cell_type": "code",
   "execution_count": null,
   "metadata": {
    "id": "crWoj3neLxnx"
   },
   "outputs": [],
   "source": [
    "class TrainDataGenerator(Sequence):\n",
    "    \"\"\"Generates data for Keras\n",
    "    Sequence based data generator. Suitable for building data generator for training and prediction.\n",
    "    \"\"\"\n",
    "    def __init__(self, df, vectorizer, to_fit=True, batch_size=32, dim=(150, 150),\n",
    "                 n_channels=3, shuffle=True):\n",
    "        self.train_datagen = ImageDataGenerator(\n",
    "                                  rescale=1./255,\n",
    "                                  shear_range=0.2,\n",
    "                                  zoom_range=0.2,\n",
    "                                  horizontal_flip=True)\n",
    "        self.train_generator = train_datagen.flow_from_dataframe(\n",
    "                                  df_train,\n",
    "                                  y_col='id',\n",
    "                                  target_size=(32, 32),\n",
    "                                  batch_size=32,\n",
    "                                  class_mode='raw')\n",
    "        self.vectorizer = vectorizer\n",
    "        self.df = df\n",
    "\n",
    "\n",
    "    def __len__(self):\n",
    "        \"\"\"Denotes the number of batches per epoch\n",
    "        :return: number of batches per epoch\n",
    "        \"\"\"\n",
    "        return len(self.train_generator)\n",
    "\n",
    "    def __getitem__(self, index):\n",
    "        X, y_idx = self.train_generator[index]\n",
    "        rows = self.df.loc[y_idx]\n",
    "        y = self.vectorizer.transform(rows['description']).todense()\n",
    "        return X, y\n",
    "\n",
    "\n",
    "    def on_epoch_end(self):\n",
    "        pass\n"
   ]
  },
  {
   "cell_type": "code",
   "execution_count": null,
   "metadata": {
    "colab": {
     "base_uri": "https://localhost:8080/"
    },
    "id": "KzoGaI0ZO-SE",
    "outputId": "900d6b29-b1de-4396-c6d0-ec4d1a986c64"
   },
   "outputs": [],
   "source": [
    "data_generator = TrainDataGenerator(df_train, cnt)"
   ]
  },
  {
   "cell_type": "code",
   "execution_count": null,
   "metadata": {
    "id": "tk6zclAvPN26"
   },
   "outputs": [],
   "source": [
    "input_shape = (32, 32, 3)\n",
    "num_features = len(cnt.vocabulary_)\n",
    "keras_tf_layers = tf.keras.layers\n",
    "\n",
    "model = keras.Sequential(\n",
    "    [\n",
    "        keras.Input(shape=input_shape),\n",
    "        keras_tf_layers.Conv2D(32, kernel_size=(4, 4), activation=\"relu\"),\n",
    "        keras_tf_layers.MaxPooling2D(pool_size=(2, 2)),\n",
    "        keras_tf_layers.Conv2D(64, kernel_size=(3, 3), activation=\"relu\"),\n",
    "        keras_tf_layers.MaxPooling2D(pool_size=(2, 2)),\n",
    "        keras_tf_layers.Flatten(),\n",
    "        keras_tf_layers.Dropout(0.5),\n",
    "        keras_tf_layers.Dense(num_features, activation=\"sigmoid\"),\n",
    "    ]\n",
    ")"
   ]
  },
  {
   "cell_type": "code",
   "execution_count": null,
   "metadata": {
    "id": "0x1zpimAaa2q"
   },
   "outputs": [],
   "source": [
    "from google.colab import drive\n",
    "drive.mount('/content/drive')"
   ]
  },
  {
   "cell_type": "code",
   "execution_count": null,
   "metadata": {
    "id": "PH2A0jU8QP91"
   },
   "outputs": [],
   "source": [
    "model.compile(loss=\"mean_squared_error\", optimizer=\"adam\", metrics=[\"mae\"])"
   ]
  },
  {
   "cell_type": "code",
   "execution_count": null,
   "metadata": {
    "colab": {
     "background_save": true
    },
    "id": "_NpXfTrRP2rQ"
   },
   "outputs": [],
   "source": [
    "model.fit(data_generator, epochs=100)"
   ]
  },
  {
   "cell_type": "code",
   "execution_count": null,
   "metadata": {
    "colab": {
     "background_save": true
    },
    "id": "0RSQgJ3sQM-K"
   },
   "outputs": [],
   "source": [
    "model.save('/content/drive/MyDrive/museum/model2.h5')"
   ]
  },
  {
   "cell_type": "code",
   "execution_count": null,
   "metadata": {
    "id": "0rZpPZqp1h0J"
   },
   "outputs": [],
   "source": [
    "model = keras.models.load_model('/content/drive/MyDrive/museum/model2.h5')"
   ]
  },
  {
   "cell_type": "code",
   "execution_count": null,
   "metadata": {
    "id": "vKrfJZFDA12V"
   },
   "outputs": [],
   "source": [
    "df_test = pd.read_csv(\"/content/drive/MyDrive/museum/test_dataset_test/test.csv\")"
   ]
  },
  {
   "cell_type": "code",
   "execution_count": null,
   "metadata": {
    "colab": {
     "base_uri": "https://localhost:8080/",
     "height": 206
    },
    "id": "zgpVvk7CDN2K",
    "outputId": "90151e46-e422-43b7-8dc1-c237bedae783"
   },
   "outputs": [],
   "source": [
    "df_test.head()"
   ]
  },
  {
   "cell_type": "code",
   "execution_count": null,
   "metadata": {
    "id": "GBLLDGuVEX1d"
   },
   "outputs": [],
   "source": [
    "import os\n",
    "filenames = os.listdir(\"/content/drive/MyDrive/museum/test_dataset_test/test\")\n",
    "\n",
    "test_df_img = pd.DataFrame({'id': list(range(len(filenames))),\n",
    "                            'filename': list(map(lambda x: f\"/content/drive/MyDrive/museum/test_dataset_test/test/{x}\", filenames))})"
   ]
  },
  {
   "cell_type": "code",
   "execution_count": null,
   "metadata": {
    "colab": {
     "base_uri": "https://localhost:8080/",
     "height": 235
    },
    "id": "8hlWRdUkDPdW",
    "outputId": "7f85aeb5-9dab-46fe-8701-a671e897273c"
   },
   "outputs": [],
   "source": [
    "test_datagen = ImageDataGenerator(\n",
    "    rescale=1./255)\n",
    "\n",
    "\n",
    "test_generator = test_datagen.flow_from_dataframe(\n",
    "    test_df_img,\n",
    "    y_col='id',\n",
    "    target_size=(32, 32),\n",
    "    class_mode='raw',\n",
    "    shuffle=False)\n"
   ]
  },
  {
   "cell_type": "code",
   "execution_count": null,
   "metadata": {
    "id": "GbQHKX4YDxSV"
   },
   "outputs": [],
   "source": [
    "raw_predictions = model.predict(test_generator)"
   ]
  },
  {
   "cell_type": "code",
   "execution_count": null,
   "metadata": {
    "id": "Oj2s6qtLF0sH"
   },
   "outputs": [],
   "source": [
    "raw_predictions[0]"
   ]
  },
  {
   "cell_type": "code",
   "execution_count": null,
   "metadata": {
    "id": "597uk-PQGBhX"
   },
   "outputs": [],
   "source": [
    "test_vectors = cnt.transform(df_test['description']).todense()"
   ]
  },
  {
   "cell_type": "code",
   "execution_count": null,
   "metadata": {
    "id": "TZjPQ0wTGqnF"
   },
   "outputs": [],
   "source": [
    "res_map = {}\n",
    "\n",
    "for i in range(len(raw_predictions)):\n",
    "  dist = np.inf\n",
    "  txt_n = None\n",
    "  for j in range(len(test_vectors)):\n",
    "    if j in res_map.values():\n",
    "      continue\n",
    "    \n",
    "    dist_ = np.sum(np.abs(raw_predictions[i] - test_vectors[j]))\n",
    "    if dist_ < dist:\n",
    "      txt_n = j\n",
    "      dist = dist_\n",
    "\n",
    "  res_map[i] = txt_n"
   ]
  },
  {
   "cell_type": "code",
   "execution_count": null,
   "metadata": {
    "id": "GkJGmNqrIwLz"
   },
   "outputs": [],
   "source": [
    "res_imgs = [filenames[y[0]] for y in sorted(res_map.items(), key=lambda x: x[1])]"
   ]
  },
  {
   "cell_type": "code",
   "execution_count": null,
   "metadata": {
    "id": "cE-KL032QE6W"
   },
   "outputs": [],
   "source": [
    "submission = pd.DataFrame({'id': df_test['id'], 'object_img': list(map(lambda x: x.split('.')[0], res_imgs))})"
   ]
  },
  {
   "cell_type": "code",
   "execution_count": null,
   "metadata": {
    "colab": {
     "base_uri": "https://localhost:8080/",
     "height": 424
    },
    "id": "rv62g0RXPhB4",
    "outputId": "9e42ecff-c2f0-4e29-e1be-fdd6be6e3361"
   },
   "outputs": [],
   "source": [
    "submission"
   ]
  },
  {
   "cell_type": "code",
   "execution_count": null,
   "metadata": {
    "id": "XTC8ErPHQAXs"
   },
   "outputs": [],
   "source": [
    "submission.to_csv('/content/drive/MyDrive/museum/submission3.csv', index=False)"
   ]
  },
  {
   "cell_type": "code",
   "execution_count": null,
   "metadata": {
    "colab": {
     "base_uri": "https://localhost:8080/",
     "height": 424
    },
    "id": "lcekmmZTQlys",
    "outputId": "109c2b81-17bc-42f3-af4c-273a8fe75235"
   },
   "outputs": [],
   "source": [
    "pd.concat([df_train, df_test]).sort_values(by='object_img')"
   ]
  },
  {
   "cell_type": "code",
   "execution_count": null,
   "metadata": {
    "id": "FGrinaOD_E-Z"
   },
   "outputs": [],
   "source": [
    "train_vectors = cnt.transform(df_train['description']).todense()\n",
    "test_vectors = cnt.transform(df_test['description']).todense()"
   ]
  },
  {
   "cell_type": "code",
   "execution_count": null,
   "metadata": {
    "id": "7NSIY60cAS3m"
   },
   "outputs": [],
   "source": [
    "from sklearn.metrics.pairwise import cosine_similarity"
   ]
  },
  {
   "cell_type": "code",
   "execution_count": null,
   "metadata": {
    "colab": {
     "base_uri": "https://localhost:8080/"
    },
    "id": "1ImdYSdKAAIC",
    "outputId": "bdb75f33-cd80-4cb8-f939-b927d50c38dc"
   },
   "outputs": [],
   "source": [
    "similarities = cosine_similarity(train_vectors, test_vectors)"
   ]
  },
  {
   "cell_type": "code",
   "execution_count": null,
   "metadata": {
    "id": "uXwJ66i8ALjl"
   },
   "outputs": [],
   "source": [
    "similar_train_idx = np.argmax(similarities, axis=0)"
   ]
  },
  {
   "cell_type": "code",
   "execution_count": null,
   "metadata": {
    "colab": {
     "base_uri": "https://localhost:8080/"
    },
    "id": "c_uvCFFNANFE",
    "outputId": "89f6c337-e133-4c79-c941-546ae12f191a"
   },
   "outputs": [],
   "source": [
    "similar_train_idx"
   ]
  },
  {
   "cell_type": "code",
   "execution_count": null,
   "metadata": {
    "id": "mIUvdVUFAr0g"
   },
   "outputs": [],
   "source": [
    "import os\n",
    "test_labels = [int(x.split('.')[0]) for x in os.listdir(\"/content/drive/MyDrive/museum/test_dataset_test/test\")]"
   ]
  },
  {
   "cell_type": "code",
   "execution_count": null,
   "metadata": {
    "id": "zTwlccGyCU0z"
   },
   "outputs": [],
   "source": [
    "train_labels = [int(x) for x in df_train['object_img']]"
   ]
  },
  {
   "cell_type": "code",
   "execution_count": null,
   "metadata": {
    "id": "gS4ZlJD0BQr4"
   },
   "outputs": [],
   "source": [
    "mapping = {}\n",
    "\n",
    "for i, sim in enumerate(similar_train_idx):\n",
    "  target_train = train_labels[sim]\n",
    "  for j in range(1, 500):\n",
    "    if target_train + j not in mapping:\n",
    "      mapping[target_train + j] = i\n",
    "      break\n",
    "    if target_train - j not in mapping:\n",
    "      mapping[target_train - j] = i\n",
    "      break\n",
    "\n"
   ]
  },
  {
   "cell_type": "code",
   "execution_count": null,
   "metadata": {
    "id": "_b0v-oroBENh"
   },
   "outputs": [],
   "source": [
    "result = [x[1] for x in sorted({v: k for k, v in mapping.items()}.items())]"
   ]
  },
  {
   "cell_type": "code",
   "execution_count": null,
   "metadata": {
    "id": "Inh2IfiVBFft"
   },
   "outputs": [],
   "source": [
    "submission = pd.DataFrame({'id': df_test['id'], 'object_img': result})"
   ]
  },
  {
   "cell_type": "code",
   "execution_count": null,
   "metadata": {
    "id": "_UyWxZ2GDmkP"
   },
   "outputs": [],
   "source": [
    "submission.to_csv('/content/drive/MyDrive/museum/submission_02.csv', index=False)"
   ]
  },
  {
   "cell_type": "code",
   "execution_count": null,
   "metadata": {
    "id": "UpKi5YzEDoPi"
   },
   "outputs": [],
   "source": []
  }
 ],
 "metadata": {
  "colab": {
   "collapsed_sections": [],
   "provenance": []
  },
  "kernelspec": {
   "display_name": "Python 3",
   "language": "python",
   "name": "python3"
  },
  "language_info": {
   "codemirror_mode": {
    "name": "ipython",
    "version": 3
   },
   "file_extension": ".py",
   "mimetype": "text/x-python",
   "name": "python",
   "nbconvert_exporter": "python",
   "pygments_lexer": "ipython3",
   "version": "3.8.8"
  }
 },
 "nbformat": 4,
 "nbformat_minor": 1
}
